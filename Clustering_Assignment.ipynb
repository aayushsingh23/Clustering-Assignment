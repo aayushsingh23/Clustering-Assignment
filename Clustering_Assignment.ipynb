{
  "nbformat": 4,
  "nbformat_minor": 0,
  "metadata": {
    "colab": {
      "provenance": []
    },
    "kernelspec": {
      "name": "python3",
      "display_name": "Python 3"
    },
    "language_info": {
      "name": "python"
    }
  },
  "cells": [
    {
      "cell_type": "code",
      "execution_count": 1,
      "metadata": {
        "id": "nU29DlvtlfRd"
      },
      "outputs": [],
      "source": [
        "import pandas as pd\n",
        "#load the dataset\n",
        "data = pd.read_csv(\"/content/balance-scale.data\")"
      ]
    },
    {
      "cell_type": "code",
      "source": [
        "import numpy as np\n",
        "from sklearn.cluster import KMeans, MeanShift, AgglomerativeClustering\n",
        "from sklearn.preprocessing import StandardScaler, PowerTransformer\n",
        "from sklearn.decomposition import PCA\n",
        "from sklearn.metrics import silhouette_score, calinski_harabasz_score, davies_bouldin_score\n"
      ],
      "metadata": {
        "id": "S6b4wciGuCZO"
      },
      "execution_count": 2,
      "outputs": []
    },
    {
      "cell_type": "code",
      "source": [
        "X = data.iloc[:, 1:].values\n",
        "# Preprocessing methods\n",
        "scaler = StandardScaler()\n",
        "X_normalized = scaler.fit_transform(X)\n",
        "\n",
        "transformer = PowerTransformer()\n",
        "X_transformed = transformer.fit_transform(X)\n",
        "\n",
        "pca = PCA(n_components=2)\n",
        "X_pca = pca.fit_transform(X)\n",
        "\n",
        "X_t_n = transformer.fit_transform(X_normalized)\n",
        "X_t_n_pca = pca.fit_transform(X_t_n)"
      ],
      "metadata": {
        "id": "T4zZ7J8XuoS1"
      },
      "execution_count": 4,
      "outputs": []
    },
    {
      "cell_type": "code",
      "source": [
        "\n",
        "# Define clustering methods\n",
        "def perform_clustering(X, method=\"kmeans\", clusters=[3, 4, 5]):\n",
        "    results = []\n",
        "    for c in clusters:\n",
        "        if method == \"kmeans\":\n",
        "            model = KMeans(n_clusters=c, random_state=42, n_init=10)\n",
        "        elif method == \"hierarchical\":\n",
        "            model = AgglomerativeClustering(n_clusters=c)\n",
        "        elif method == \"meanshift\":\n",
        "            model = MeanShift()\n",
        "        else:\n",
        "            raise ValueError(\"Invalid method\")\n",
        "\n",
        "        labels = model.fit_predict(X)\n",
        "\n",
        "        silhouette = silhouette_score(X, labels) if len(set(labels)) > 1 else np.nan\n",
        "        calinski = calinski_harabasz_score(X, labels)\n",
        "        davies = davies_bouldin_score(X, labels) if len(set(labels)) > 1 else np.nan\n",
        "\n",
        "        results.append([c, silhouette, calinski, davies])\n",
        "\n",
        "    return pd.DataFrame(results, columns=[\"Clusters\", \"Silhouette\", \"Calinski-Harabasz\", \"Davies-Bouldin\"])\n"
      ],
      "metadata": {
        "id": "JPdZUMZ4u326"
      },
      "execution_count": 5,
      "outputs": []
    },
    {
      "cell_type": "code",
      "source": [
        "# Perform clustering on all preprocessing variations\n",
        "methods = [\"kmeans\", \"hierarchical\", \"meanshift\"]\n",
        "datasets = {\n",
        "    \"No Data Processing\": X,\n",
        "    \"Using Normalization\": X_normalized,\n",
        "    \"Using Transform\": X_transformed,\n",
        "    \"Using PCA\": X_pca,\n",
        "    \"Using T+N\": X_t_n,\n",
        "    \"T+N+PCA\": X_t_n_pca,\n",
        "}"
      ],
      "metadata": {
        "id": "BPSPWXa-vXK3"
      },
      "execution_count": 6,
      "outputs": []
    },
    {
      "cell_type": "code",
      "source": [
        "# Generate Results\n",
        "final_results = {}\n",
        "\n",
        "for method in methods:\n",
        "    method_results = {}\n",
        "    for name, data in datasets.items():\n",
        "        try:\n",
        "            df_result = perform_clustering(data, method=method)\n",
        "            method_results[name] = df_result\n",
        "        except:\n",
        "            method_results[name] = None  # If clustering fails\n",
        "    final_results[method] = method_results"
      ],
      "metadata": {
        "id": "AC5hx2XCvZIz"
      },
      "execution_count": 7,
      "outputs": []
    },
    {
      "cell_type": "code",
      "source": [
        "# Display formatted table\n",
        "for method, results in final_results.items():\n",
        "    print(f\"\\n### {method.upper()} CLUSTERING RESULTS ###\\n\")\n",
        "    for name, df_result in results.items():\n",
        "        print(f\"\\n**{name}**\")\n",
        "        if df_result is not None:\n",
        "            print(df_result.to_string(index=False))"
      ],
      "metadata": {
        "colab": {
          "base_uri": "https://localhost:8080/"
        },
        "id": "9tJ-SZ97vbVN",
        "outputId": "42070b0c-c3d1-4656-eb94-1171dae09f79"
      },
      "execution_count": 8,
      "outputs": [
        {
          "output_type": "stream",
          "name": "stdout",
          "text": [
            "\n",
            "### KMEANS CLUSTERING RESULTS ###\n",
            "\n",
            "\n",
            "**No Data Processing**\n",
            " Clusters  Silhouette  Calinski-Harabasz  Davies-Bouldin\n",
            "        3    0.174466         136.674065        1.690472\n",
            "        4    0.190545         136.108490        1.480735\n",
            "        5    0.188296         134.064355        1.389558\n",
            "\n",
            "**Using Normalization**\n",
            " Clusters  Silhouette  Calinski-Harabasz  Davies-Bouldin\n",
            "        3    0.174466         136.674065        1.690472\n",
            "        4    0.190986         136.221537        1.482004\n",
            "        5    0.188311         133.993363        1.385375\n",
            "\n",
            "**Using Transform**\n",
            " Clusters  Silhouette  Calinski-Harabasz  Davies-Bouldin\n",
            "        3    0.184227         142.482152        1.685186\n",
            "        4    0.187092         137.842444        1.530177\n",
            "        5    0.191315         136.889557        1.376939\n",
            "\n",
            "**Using PCA**\n",
            " Clusters  Silhouette  Calinski-Harabasz  Davies-Bouldin\n",
            "        3    0.343051         405.367021        0.919147\n",
            "        4    0.338763         438.087470        0.878220\n",
            "        5    0.329847         418.191987        0.907417\n",
            "\n",
            "**Using T+N**\n",
            " Clusters  Silhouette  Calinski-Harabasz  Davies-Bouldin\n",
            "        3    0.174853         136.368549        1.722694\n",
            "        4    0.190569         136.111604        1.481578\n",
            "        5    0.189124         134.136016        1.367854\n",
            "\n",
            "**T+N+PCA**\n",
            " Clusters  Silhouette  Calinski-Harabasz  Davies-Bouldin\n",
            "        3    0.351282         426.551537        0.914205\n",
            "        4    0.346891         459.042034        0.873686\n",
            "        5    0.346615         441.559263        0.879335\n",
            "\n",
            "### HIERARCHICAL CLUSTERING RESULTS ###\n",
            "\n",
            "\n",
            "**No Data Processing**\n",
            " Clusters  Silhouette  Calinski-Harabasz  Davies-Bouldin\n",
            "        3    0.149245         116.890908        1.843427\n",
            "        4    0.134960         107.901135        1.641375\n",
            "        5    0.131054         104.773051        1.535168\n",
            "\n",
            "**Using Normalization**\n",
            " Clusters  Silhouette  Calinski-Harabasz  Davies-Bouldin\n",
            "        3    0.163903         130.865974        1.784863\n",
            "        4    0.163330         121.896295        1.747976\n",
            "        5    0.158475         118.184968        1.570321\n",
            "\n",
            "**Using Transform**\n",
            " Clusters  Silhouette  Calinski-Harabasz  Davies-Bouldin\n",
            "        3    0.160124         127.077789        1.793495\n",
            "        4    0.152975         117.937833        1.774990\n",
            "        5    0.156305         115.946253        1.645778\n",
            "\n",
            "**Using PCA**\n",
            " Clusters  Silhouette  Calinski-Harabasz  Davies-Bouldin\n",
            "        3    0.303353         350.000801        1.037257\n",
            "        4    0.270510         322.707847        0.964873\n",
            "        5    0.267302         335.386461        0.924378\n",
            "\n",
            "**Using T+N**\n",
            " Clusters  Silhouette  Calinski-Harabasz  Davies-Bouldin\n",
            "        3    0.169189         133.140805        1.743988\n",
            "        4    0.165368         123.777510        1.729933\n",
            "        5    0.168141         122.714949        1.604806\n",
            "\n",
            "**T+N+PCA**\n",
            " Clusters  Silhouette  Calinski-Harabasz  Davies-Bouldin\n",
            "        3    0.297432         347.954164        1.017931\n",
            "        4    0.278761         345.949043        1.096386\n",
            "        5    0.272742         351.307411        0.960285\n",
            "\n",
            "### MEANSHIFT CLUSTERING RESULTS ###\n",
            "\n",
            "\n",
            "**No Data Processing**\n",
            "\n",
            "**Using Normalization**\n",
            "\n",
            "**Using Transform**\n",
            "\n",
            "**Using PCA**\n",
            "\n",
            "**Using T+N**\n",
            "\n",
            "**T+N+PCA**\n"
          ]
        }
      ]
    },
    {
      "cell_type": "code",
      "source": [],
      "metadata": {
        "id": "EOZwJG8qvjRF"
      },
      "execution_count": null,
      "outputs": []
    }
  ]
}